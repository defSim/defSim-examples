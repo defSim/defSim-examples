{
 "cells": [
  {
   "cell_type": "markdown",
   "metadata": {},
   "source": [
    "## Low-modularity example: out-of-the-box use\n",
    "\n",
    "A low degree of modularity means using the package as it comes, ’out of the box’, using a combination of the modules as they come with the user’s installation of defSim. The example code given in this notebook runs a small experiment with a bounded confidence model on a wrapped lattice network, varying the communication regime. It combines the conception of opinions as one-dimensional continuous objects (Deffuant et al. 2002) with the idea that in some contexts (e.g. on social networking platforms) individuals communicate to all their contacts at once rather than on a purely dyadic basis (Keijzer et al. 2018). \n",
    "\n",
    "Both models run for 10,000 iterations and are repeated 20 times. The code returns a pandas data frame,\n",
    "here called ’my_results’ that contains the basic model settings and a set of standard output measures that summarize the model after convergence.\n",
    "\n",
    "A summary of two of those output measures is given in the figure below where homogeneity (i.e. the size of the biggest cluster of similar agents over the total number of agents) and the average distance between agents are plotted for the different communication regimes. We see that when agents influence all their neighbors at once the largest opinion cluster at the end of the run is much larger than when agents communicate at a one-to-one basis. All the while, the average opinion distance between agents remains at asimilar level between the two experimental conditions, indicating that the level of disagreement on the graph remains roughly the same."
   ]
  },
  {
   "cell_type": "code",
   "execution_count": 1,
   "metadata": {},
   "outputs": [],
   "source": [
    "import defSim as ds\n",
    "import matplotlib.pyplot as plt\n",
    "import numpy as np"
   ]
  },
  {
   "cell_type": "markdown",
   "metadata": {},
   "source": [
    "### The Experiment class\n",
    "\n",
    "Here, we use the Experiment class to run a bounded confidence model on a grid, varying the communication regime. At each timestep, a randomly drawn agent will send his opinion to one (one-to-one) or all (one-to-many) of its neighbors. The agent who receives the opinion decides to adopt - moving towards the sending agent's opinion - or reject the opinion based on whether their difference is smaller than the confidence level. In the example below, the confidence level is set to 0.25.\n",
    "\n",
    "All parameters are set to one value, except the communication_regime parameter. This parameter receives a list and automatically converts this list to two conditions. Each condition is run as many times as is passed to the repetitions parameter."
   ]
  },
  {
   "cell_type": "code",
   "execution_count": 2,
   "metadata": {},
   "outputs": [],
   "source": [
    "my_experiment = ds.Experiment(seed=314,\n",
    "                              influence_function=\"bounded_confidence\",\n",
    "                              attributes_initializer=\"random_continuous\",\n",
    "                              attribute_parameters={\"num_features\": 1},\n",
    "                              dissimilarity_measure=\"euclidean\",\n",
    "                              topology=\"grid\",\n",
    "                              network_parameters={'num_agents': 49,\n",
    "                                                  \"neighborhood\": \"moore\"},\n",
    "                              influence_parameters={\"confidence_level\": .25},\n",
    "                              communication_regime=['one-to-one', 'one-to-many'],\n",
    "                              max_iterations=10000,\n",
    "                              repetitions=20)"
   ]
  },
  {
   "cell_type": "code",
   "execution_count": 3,
   "metadata": {},
   "outputs": [
    {
     "name": "stdout",
     "output_type": "stream",
     "text": [
      "40 different parameter combinations\n"
     ]
    }
   ],
   "source": [
    "my_results = my_experiment.run(parallel=True)\n"
   ]
  },
  {
   "cell_type": "code",
   "execution_count": 4,
   "metadata": {},
   "outputs": [
    {
     "data": {
      "image/png": "[encoded data removed]",
      "text/plain": [
       "<Figure size 216x216 with 2 Axes>"
      ]
     },
     "metadata": {},
     "output_type": "display_data"
    }
   ],
   "source": [
    "fig, ax1 = plt.subplots(figsize=[3,3])\n",
    "\n",
    "plt.tight_layout()\n",
    "\n",
    "x = ['one-to-one', 'one-to-many']\n",
    "y = [sum(my_results.loc[my_results['communication_regime'] == 'one-to-one', 'Homogeneity']) / 20,\n",
    "     sum(my_results.loc[my_results['communication_regime'] == 'one-to-many', 'Homogeneity']) / 20]\n",
    "e = [np.std(my_results.loc[my_results['communication_regime'] == 'one-to-one', 'Homogeneity']),\n",
    "     np.std(my_results.loc[my_results['communication_regime'] == 'one-to-many', 'Homogeneity'])]\n",
    "\n",
    "ax1.errorbar(x, y, e,\n",
    "             marker='o',\n",
    "             color='b',\n",
    "             capsize=5,\n",
    "             capthick=2)\n",
    "ax1.set_ylim(0, 1)\n",
    "ax1.set_xlim(-0.25, 1.25)\n",
    "plt.xlabel('Communication regime', fontweight='bold')\n",
    "plt.ylabel(r'$S_{max}$ / $N$', fontweight='bold', color='blue')\n",
    "\n",
    "ax2 = ax1.twinx()\n",
    "x2 = ['one-to-one', 'one-to-many']\n",
    "y2 = [sum(my_results.loc[my_results['communication_regime'] == 'one-to-one', 'AverageDistance']) / 20,\n",
    "     sum(my_results.loc[my_results['communication_regime'] == 'one-to-many', 'AverageDistance']) / 20]\n",
    "e2 = [np.std(my_results.loc[my_results['communication_regime'] == 'one-to-one', 'AverageDistance']),\n",
    "     np.std(my_results.loc[my_results['communication_regime'] == 'one-to-many', 'AverageDistance'])]\n",
    "plt.errorbar(x2, y2, e2,\n",
    "             marker='o',\n",
    "             color='r',\n",
    "             capsize=5,\n",
    "             capthick=2)\n",
    "ax2.set_ylim(0, 1)\n",
    "plt.ylabel('Average Distance', fontweight='bold', color='red', rotation=-90, labelpad=16)\n",
    "\n",
    "#plt.savefig('/Users/marijnkeijzer/Desktop/lowmodularity.png', dpi=144, bbox_inches='tight')\n",
    "\n",
    "plt.show()\n"
   ]
  },
  {
   "cell_type": "code",
   "execution_count": null,
   "metadata": {},
   "outputs": [],
   "source": []
  }
 ],
 "metadata": {
  "kernelspec": {
   "display_name": "Python 3",
   "language": "python",
   "name": "python3"
  },
  "language_info": {
   "codemirror_mode": {
    "name": "ipython",
    "version": 3
   },
   "file_extension": ".py",
   "mimetype": "text/x-python",
   "name": "python",
   "nbconvert_exporter": "python",
   "pygments_lexer": "ipython3",
   "version": "3.6.5"
  }
 },
 "nbformat": 4,
 "nbformat_minor": 1
}
